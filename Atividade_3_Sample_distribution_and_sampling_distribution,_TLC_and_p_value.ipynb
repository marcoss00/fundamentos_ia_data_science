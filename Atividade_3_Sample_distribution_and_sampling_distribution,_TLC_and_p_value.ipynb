{
  "nbformat": 4,
  "nbformat_minor": 0,
  "metadata": {
    "colab": {
      "provenance": [],
      "authorship_tag": "ABX9TyMnuq/2azeuFiSlYqPp/yhF",
      "include_colab_link": true
    },
    "kernelspec": {
      "name": "python3",
      "display_name": "Python 3"
    },
    "language_info": {
      "name": "python"
    }
  },
  "cells": [
    {
      "cell_type": "markdown",
      "metadata": {
        "id": "view-in-github",
        "colab_type": "text"
      },
      "source": [
        "<a href=\"https://colab.research.google.com/github/marcoss00/fundamentos_ia_data_science/blob/master/Atividade_3_Sample_distribution_and_sampling_distribution%2C_TLC_and_p_value.ipynb\" target=\"_parent\"><img src=\"https://colab.research.google.com/assets/colab-badge.svg\" alt=\"Open In Colab\"/></a>"
      ]
    },
    {
      "cell_type": "markdown",
      "source": [
        "# A: sample distribution and sampling distribution\n",
        "A partir do que foi feito na Atividade 2 “Considerando o primeiro trabalho, defina um experimento em que dados são coletados de uma variável de interesse do seu trabalho”, crie  uma população artificial dessa variável com uma distribuição Gaussiana e demonstre sample distribution and sampling distribution. Faça avaliações de probabilidade de possíveis eventos."
      ],
      "metadata": {
        "id": "VypeCg8NoThZ"
      }
    },
    {
      "cell_type": "markdown",
      "source": [
        "Baixando o pacote que permite buscar datasets diretamente do repositório UCI"
      ],
      "metadata": {
        "id": "b4qcFpxeiQNO"
      }
    },
    {
      "cell_type": "code",
      "source": [
        "pip install ucimlrepo"
      ],
      "metadata": {
        "colab": {
          "base_uri": "https://localhost:8080/"
        },
        "id": "B-iuz71oijgx",
        "outputId": "afe69446-705b-4a00-ffb3-a065cb014e0f"
      },
      "execution_count": 1,
      "outputs": [
        {
          "output_type": "stream",
          "name": "stdout",
          "text": [
            "Collecting ucimlrepo\n",
            "  Downloading ucimlrepo-0.0.7-py3-none-any.whl.metadata (5.5 kB)\n",
            "Requirement already satisfied: pandas>=1.0.0 in /usr/local/lib/python3.11/dist-packages (from ucimlrepo) (2.2.2)\n",
            "Requirement already satisfied: certifi>=2020.12.5 in /usr/local/lib/python3.11/dist-packages (from ucimlrepo) (2025.1.31)\n",
            "Requirement already satisfied: numpy>=1.23.2 in /usr/local/lib/python3.11/dist-packages (from pandas>=1.0.0->ucimlrepo) (2.0.2)\n",
            "Requirement already satisfied: python-dateutil>=2.8.2 in /usr/local/lib/python3.11/dist-packages (from pandas>=1.0.0->ucimlrepo) (2.9.0.post0)\n",
            "Requirement already satisfied: pytz>=2020.1 in /usr/local/lib/python3.11/dist-packages (from pandas>=1.0.0->ucimlrepo) (2025.2)\n",
            "Requirement already satisfied: tzdata>=2022.7 in /usr/local/lib/python3.11/dist-packages (from pandas>=1.0.0->ucimlrepo) (2025.2)\n",
            "Requirement already satisfied: six>=1.5 in /usr/local/lib/python3.11/dist-packages (from python-dateutil>=2.8.2->pandas>=1.0.0->ucimlrepo) (1.17.0)\n",
            "Downloading ucimlrepo-0.0.7-py3-none-any.whl (8.0 kB)\n",
            "Installing collected packages: ucimlrepo\n",
            "Successfully installed ucimlrepo-0.0.7\n"
          ]
        }
      ]
    },
    {
      "cell_type": "markdown",
      "source": [
        "Importação das bibliotecas para cálculos numéricos, gráficos, estatística e manipulação de dados."
      ],
      "metadata": {
        "id": "vP2NjRwHisE9"
      }
    },
    {
      "cell_type": "code",
      "source": [
        "from ucimlrepo import fetch_ucirepo\n",
        "import matplotlib.pyplot as plt\n",
        "import pandas as pd\n",
        "import numpy as np\n",
        "from scipy.stats import norm"
      ],
      "metadata": {
        "id": "TOhvPxgAirRA"
      },
      "execution_count": 2,
      "outputs": []
    },
    {
      "cell_type": "code",
      "source": [
        "# Busca o dataset\n",
        "cardiotocography = fetch_ucirepo(id=193)\n",
        "\n",
        "# Guarda as features e as classes em dataframe\n",
        "df_features = cardiotocography.data.features\n",
        "df_class = cardiotocography.data.targets\n",
        "\n",
        "# Junta as features e as classes em um unico dataframe\n",
        "df = pd.concat([df_features, df_class], axis=1)"
      ],
      "metadata": {
        "id": "_gOv1GVji4ZA"
      },
      "execution_count": 3,
      "outputs": []
    },
    {
      "cell_type": "code",
      "source": [
        "# Filtra a feature 'LB' onde a classe 'NSP' for 1 (normal)\n",
        "acc_per_sec_normal = df[df['NSP'] == 1]['LB']\n",
        "\n",
        "# Calcula a média e o desvio padrão dos dados reais filtrados\n",
        "mean_real = np.mean(acc_per_sec_normal)\n",
        "std_real = np.std(acc_per_sec_normal)\n",
        "\n",
        "# Define a seed de geração de numeros aleatorios\n",
        "# Serve para fixar a aleatoriedade, garantindo que o resultado dos números aleatórios seja sempre o mesmo toda vez que o código for executado.\n",
        "np.random.seed(42)\n",
        "# Quantidade de amostras\n",
        "n_samples = 100\n",
        "# Geração dos dados artificiais com distribuição normal com base nos dados reais\n",
        "dados_artificiais = np.random.normal(loc=mean_real, scale=std_real, size=n_samples)\n",
        "\n",
        "# Ajusta os dados simulados para obter média e desvio padrão estimados\n",
        "mu, sigma = norm.fit(dados_artificiais)"
      ],
      "metadata": {
        "id": "tPyUOKCPjY70"
      },
      "execution_count": 5,
      "outputs": []
    }
  ]
}